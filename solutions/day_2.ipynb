{
 "cells": [
  {
   "cell_type": "code",
   "execution_count": null,
   "metadata": {},
   "outputs": [],
   "source": [
    "import unittest\n",
    "\n",
    "def read_file(file_path):\n",
    "    with open(file_path, \"r\") as f:\n",
    "        return [list(map(int, line.split())) for line in f.read().strip().split(\"\\n\")]\n",
    "\n",
    "def is_row_safe(arr):\n",
    "    increase = all(arr[i] < arr[i + 1] and abs(arr[i] - arr[i+1]) <= 3 for i in range(len(arr) - 1))\n",
    "    decrease = all(arr[i] > arr[i + 1] and abs(arr[i] - arr[i+1]) <= 3 for i in range(len(arr) - 1))\n",
    "    return increase or decrease\n",
    "\n",
    "class TestIsRowSafe(unittest.TestCase):\n",
    "\n",
    "    def test_strictly_increasing(self):\n",
    "        self.assertTrue(is_row_safe([1, 2, 3, 4, 5]))\n",
    "        \n",
    "    def test_not_strictly_increasing(self):\n",
    "        self.assertFalse(is_row_safe([1, 2, 2, 4, 5]))\n",
    "\n",
    "    def test_strictly_increasing_and_large_jump(self):\n",
    "            self.assertFalse(is_row_safe([1, 5, 6, 7, 8]))\n",
    "\n",
    "def solve(arr):\n",
    "    safe_count = 0\n",
    "    for row in arr:\n",
    "        if is_row_safe(row):\n",
    "            safe_count += 1\n",
    "    return safe_count\n",
    "\n",
    "\n",
    "unittest.main(argv=[\"\"], exit=False)\n",
    "\n",
    "print(solve(read_file(\"day2.txt\")))"
   ]
  }
 ],
 "metadata": {
  "language_info": {
   "name": "python"
  }
 },
 "nbformat": 4,
 "nbformat_minor": 2
}
