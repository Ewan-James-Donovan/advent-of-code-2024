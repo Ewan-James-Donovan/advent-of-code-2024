{
 "cells": [
  {
   "cell_type": "markdown",
   "metadata": {},
   "source": [
    "# Day 3\n",
    "\n",
    "We're tasked to parse out only the valid multiply instructions from a text file, compute them, and sum it all up.\n",
    "\n",
    "There's many ways to solve this but I thought I'd try a one liner for both part 1 and two.\n",
    "\n",
    "Part two introduces two extra instructions to enable or disable future multiplications.\n",
    "\n",
    "$O(n)$"
   ]
  },
  {
   "cell_type": "code",
   "execution_count": null,
   "metadata": {},
   "outputs": [],
   "source": [
    "import re\n",
    "import unittest\n",
    "\n",
    "# Just reads file, didn't think it was worth testing.\n",
    "def read_file(file_path):\n",
    "    with open(file_path, \"r\") as f:\n",
    "        return f.read()\n",
    "\n",
    "# Part 1\n",
    "def solve_one(file_contents): return sum(int(x)*int(y) for x, y in re.findall(r\"mul\\((\\d+),(\\d+)\\)\", file_contents))\n",
    "\n",
    "class TestSolvePart1(unittest.TestCase):\n",
    "    def test_compute(self):\n",
    "        file_contents = \"xmul(2,4)&mul[3,7]!^don't()_mul(5,5)+mul(32,64](mul(11,8)undo()?mul(8,5))\"\n",
    "        result = solve_one(file_contents)\n",
    "        self.assertEqual(result, 2*4 + 5*5 + 8*5 + 11 * 8)\n",
    "        \n",
    "data = read_file(\"part1.txt\")\n",
    "print(solve_one(data))\n",
    "\n",
    "# Part 2\n",
    "def solve_two(data): return sum(int(x)*int(y) for do in [i.split(\"don't()\")[0] for i in data.split(\"do()\")] for x, y in re.findall(r\"mul\\((\\d+),(\\d+)\\)\", do))\n",
    "\n",
    "class TestSolvePart2(unittest.TestCase):\n",
    "    def test_compute(self):\n",
    "        file_contents = \"xmul(2,4)&mul(4,7)!^don't()_mul(5,5)+mul(32,64](mul(11,8)undo()?mul(8,5))\"\n",
    "        result = solve_two(file_contents)\n",
    "        self.assertEqual(result, 2*4 + 4*7 + 8*5)\n",
    "\n",
    "unittest.main(argv=[""], exit=False)\n",
    "\n",
    "data = read_file(\"part2.txt\")\n",
    "print(solve_two(data))"
   ]
  }
 ],
 "metadata": {
  "language_info": {
   "name": "python"
  }
 },
 "nbformat": 4,
 "nbformat_minor": 2
}
