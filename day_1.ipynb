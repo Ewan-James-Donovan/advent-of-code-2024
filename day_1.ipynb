{
 "cells": [
  {
   "cell_type": "markdown",
   "metadata": {},
   "source": [
    "# Day 1.1\n",
    "\n",
    "We're offered two dissimilar lists and asked to pair similar items between them such that the cumulative difference is minimal.\n",
    "\n",
    "Thinking of them as vectors, the task is to minimise the manhattan distance between them by reordering their components.\n",
    "\n",
    "Assuming worst-case inputs, sorting both lists and summing up each difference is optimal with complexity $O(n \\log n)$"
   ]
  },
  {
   "cell_type": "code",
   "execution_count": null,
   "metadata": {},
   "outputs": [],
   "source": [
    "import unittest\n",
    "\n",
    "def solve(list_one, list_two):\n",
    "    total = 0\n",
    "    for item_one, item_2 in zip(sorted(list_one), sorted(list_two)):\n",
    "        total += abs(item_one - item_2)\n",
    "    return total\n",
    "\n",
    "class TestSolve(unittest.TestCase):\n",
    "    def test_adds_distances(self):\n",
    "        self.assertEqual(solve([1, 2, 3], [2, 3, 4]), 3)\n",
    "\n",
    "    def test_handles_unordered(self):\n",
    "        self.assertEqual(solve([2, 1, 3], [3, 4, 2]), 3)\n",
    "\n",
    "    def test_handles_negatives(self):\n",
    "        self.assertEqual(solve([-2, 1, 3], [3, -4, -2]), 5)\n",
    "\n",
    "unittest.main(argv=[\"\"], exit=False)\n"
   ]
  },
  {
   "cell_type": "markdown",
   "metadata": {},
   "source": [
    "# Day 1.2\n",
    "\n",
    "We're asked to score the similarity between two lists by considering how many times each element in the list_one appears in list_two and adding $\\text{value} \\cdot \\text{count}$ to a running total. This is even faster with runtime $O(n)$ due to the counter implementation."
   ]
  },
  {
   "cell_type": "code",
   "execution_count": null,
   "metadata": {},
   "outputs": [],
   "source": [
    "import unittest\n",
    "from collections import Counter\n",
    "\n",
    "def solve(list_one, list_two):\n",
    "    count = Counter(list_two)\n",
    "    total = 0\n",
    "    for item in list_one:\n",
    "        total += item * count[item]\n",
    "    return total\n",
    "\n",
    "class TestSolve(unittest.TestCase):\n",
    "    def test_scores_correctly(self):\n",
    "        self.assertEqual(solve([1, 1, 3], [1, 1, 3]), 7)\n",
    "\n",
    "unittest.main(argv=[\"\"], exit=False)"
   ]
  }
 ],
 "metadata": {
  "language_info": {
   "name": "python"
  }
 },
 "nbformat": 4,
 "nbformat_minor": 2
}
